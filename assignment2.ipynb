{
 "cells": [
  {
   "cell_type": "markdown",
   "id": "e49e2231-2de5-45e6-8595-b3ddb0e19a1c",
   "metadata": {},
   "source": [
    " 1) explain the key features of Python that make it a popular choice for programming.\n",
    "\n",
    "answer:- Features in Python\r\n",
    "In this section we will see what are the features of Python programming language:\r\n",
    "\r\n",
    "1. Free and Open Source\r\n",
    "Python language is freely available at the official website and you can download it from the given download link below click on the Download Python keyword. Download Python Since it is open-source, this means that source code is also available to the public. So you can download it, use it as well as share it. \r\n",
    "\r\n",
    "2. Easy to code\r\n",
    "Python is a high-level programming language. Python is very easy to learn the language as compared to other languages like C, C#, Javascript, Java, etc. It is very easy to code in the Python language and anybody can learn Python basics in a few hours or days. It is also a developer-friendly language. \r\n",
    "\r\n",
    "3. Easy to Read\r\n",
    "As you will see, learning Python is quite simple. As was already established, Python’s syntax is really straightforward. The code block is defined by the indentations rather than by semicolons or brackets.\r\n",
    "\r\n",
    "4. Object-Oriented Language\r\n",
    "One of the key features of Python is Object-Oriented programming. Python supports object-oriented language and concepts of classes, object encapsulation, etc. \r\n",
    "\r\n",
    "5. GUI Programming Support\r\n",
    "Graphical User interfaces can be made using a module such as PyQt5, PyQt4, wxPython, or Tk in Python. PyQt5 is the most popular option for creating graphical apps with Python.\r\n",
    "\r\n",
    "6. High-Level Language\r\n",
    "Python is a high-level language. When we write programs in Python, we do not need to remember the system architecture, nor do we need to manage the memory.\r\n",
    "\r\n",
    "7. Large Community Support\r\n",
    "Python has gained popularity over the years. Our questions are constantly answered by the enormous StackOverflow community. These websites have already provided answers to many questions about Python, so Python users can consult them as needed.\r\n",
    "\r\n",
    "8. Easy to Debug\r\n",
    "Excellent information for mistake tracing. You will be able to quickly identify and correct the majority of your program’s issues once you understand how to interpret Python’s error traces. Simply by glancing at the code, you can determine what it is designed to perform.\r\n",
    "\r\n",
    "9. Python is a Portable language\r\n",
    "Python language is also a portable language. For example, if we have Python code for Windows and if we want to run this code on other platforms such as Linux, Unix, and Mac then we do not need to change it, we can run this code on any platform.\r\n",
    "\r\n",
    "10. Python is an Integrated language\r\n",
    "Python is also an Integrated language because we can easily integrate Python with other languages like C, C++, etc. \r\n",
    "\r\n",
    "11. Interpreted Language: \r\n",
    "Python is an Interpreted Language because Python code is executed line by line at a time. like other languages C, C++, Java, etc. there is no need to compile Python code this makes it easier to debug our code. The source code of Python is converted into an immediate form called bytecode.\r\n",
    "\r\n",
    "12. Large Standard Library \r\n",
    "Python has a large standard library that provides a rich set of modules and functions so you do not have to write your own code for every single thing. There are many libraries present in Python such as regular expressions, unit-testing, web browsers, etc.\r\n",
    "\r\n",
    "13. Dynamically Typed Language\r\n",
    "Python is a dynamically-typed language. That means the type (for example- int, double, long, etc.) for a variable is decided at run time not in advance because of this feature we don’t need to specify the type of variable.\r\n",
    "\r\n",
    "14. Frontend and backend development\r\n",
    "With a new project py script, you can run and write Python codes in HTML with the help of some simple tags <py-script>, <py-env>, etc. This will help you do frontend development work in Python like javascript. Backend is the strong forte of Python it’s extensively used for this work cause of its frameworks like Django and Flask.\r\n",
    "\r\n",
    "15. Allocating Memory Dynamically\r\n",
    "In Python, the variable data type does not need to be specified. The memory is automatically allocated to a variable at runtime when it is given a value.\n",
    "   "
   ]
  },
  {
   "cell_type": "raw",
   "id": "26c05869-46d7-405e-a4a9-c150824b90a3",
   "metadata": {},
   "source": [
    "2) Describe the role of predefined keywords in Python and provide examples of how they are used in a\n",
    "program."
   ]
  },
  {
   "cell_type": "code",
   "execution_count": 10,
   "id": "da604843-56d2-449b-9ba1-adafea6ef054",
   "metadata": {},
   "outputs": [
    {
     "name": "stdout",
     "output_type": "stream",
     "text": [
      "['False', 'None', 'True', 'and', 'as', 'assert', 'async', 'await', 'break', 'class', 'continue', 'def', 'del', 'elif', 'else', 'except', 'finally', 'for', 'from', 'global', 'if', 'import', 'in', 'is', 'lambda', 'nonlocal', 'not', 'or', 'pass', 'raise', 'return', 'try', 'while', 'with', 'yield']\n"
     ]
    }
   ],
   "source": [
    "#answer\n",
    "#Keywords in Python are predefined reserved words with specialmeanings so the interpreter can understand them. They perform specific tasks in Python programming and are a \n",
    "#part of its syntax.\n",
    "# code\n",
    "import keyword\n",
    "\n",
    "print(keyword.kwlist)"
   ]
  },
  {
   "cell_type": "raw",
   "id": "f66bad90-696d-4001-a3e3-e9351eaaacde",
   "metadata": {},
   "source": [
    "3) Compare and contrast mutable and immutable ob\f",
    "ects in Python with examples."
   ]
  },
  {
   "cell_type": "raw",
   "id": "5cf60534-65c4-4155-87cc-b40b8def99b2",
   "metadata": {},
   "source": [
    "#answer:-Mutable and Immutable Objects \n",
    "Let us see what are Python’s Mutable vs Immutable Types in Python.\n",
    "\n",
    "Immutable Objects in Python\n",
    "Immutable Objects are of in-built datatypes like int, float, bool, string, Unicode, and tuple. In simple words, an immutable object can’t be changed after it is created. "
   ]
  },
  {
   "cell_type": "code",
   "execution_count": 16,
   "id": "908a5991-a67c-4f8f-a39c-b69b8b808a77",
   "metadata": {},
   "outputs": [],
   "source": [
    "#example\n",
    "#tuple immutable\n",
    "point=(2,3)"
   ]
  },
  {
   "cell_type": "code",
   "execution_count": 18,
   "id": "1c04150e-70a1-44bc-a381-9531780484c5",
   "metadata": {},
   "outputs": [
    {
     "data": {
      "text/plain": [
       "(2, 3)"
      ]
     },
     "execution_count": 18,
     "metadata": {},
     "output_type": "execute_result"
    }
   ],
   "source": [
    "point"
   ]
  },
  {
   "cell_type": "code",
   "execution_count": 20,
   "id": "9426ec4c-1dd0-4144-b25d-19c003527011",
   "metadata": {},
   "outputs": [
    {
     "data": {
      "text/plain": [
       "tuple"
      ]
     },
     "execution_count": 20,
     "metadata": {},
     "output_type": "execute_result"
    }
   ],
   "source": [
    "type(point)"
   ]
  },
  {
   "cell_type": "markdown",
   "id": "b9fda2bf-891f-4505-a2e1-2f5e4b34c306",
   "metadata": {},
   "source": [
    "Mutable Objects in Python\n",
    "Mutable Objects are of type Python list, Python dict, or Python set. Custom classes are generally mutable. \n",
    "\n",
    "Are Lists Mutable in Python?\n",
    "Yes, Lists are mutable in Python. We can add or remove elements from the list. In Python, mutability refers to the capability of an object to be changed or modified after its creation."
   ]
  },
  {
   "cell_type": "code",
   "execution_count": 22,
   "id": "fe83be86-d9d4-4fcf-897c-f780530daca6",
   "metadata": {},
   "outputs": [],
   "source": [
    "#example\n",
    "#list is mutable\n",
    "shoppping_list=[\"baingan\",\"apple\",2,3.4,True]\n",
    "shoppping_list[0]=\"potato\""
   ]
  },
  {
   "cell_type": "code",
   "execution_count": 24,
   "id": "31c6831b-f0ed-4843-abb8-f932d0acbf83",
   "metadata": {},
   "outputs": [
    {
     "data": {
      "text/plain": [
       "['potato', 'apple', 2, 3.4, True]"
      ]
     },
     "execution_count": 24,
     "metadata": {},
     "output_type": "execute_result"
    }
   ],
   "source": [
    "shoppping_list\n"
   ]
  },
  {
   "cell_type": "code",
   "execution_count": 26,
   "id": "e2425598-1dce-4b45-b66e-776085b4f319",
   "metadata": {},
   "outputs": [
    {
     "name": "stdout",
     "output_type": "stream",
     "text": [
      "potato  apple  2  3.4  True  "
     ]
    }
   ],
   "source": [
    "for item in shoppping_list:\n",
    "    print(item,end=\"  \")"
   ]
  },
  {
   "cell_type": "markdown",
   "id": "ff696ff1-f013-448b-97b0-976c463742ee",
   "metadata": {},
   "source": [
    "4) Discuss the different types of operators in Python and provide examples of how they are used."
   ]
  },
  {
   "cell_type": "markdown",
   "id": "59300867-9f7b-47a3-ab89-90203e69f89f",
   "metadata": {},
   "source": [
    "Answer:- Arithmetic Operators \r\n",
    "Division Operators\r\n",
    "In Python programming language Division Operators allow you to divide two numbers and return a quotient, i.e., the first number or number at the left is divided by the second number or number at the right and returns the quotient. "
   ]
  },
  {
   "cell_type": "code",
   "execution_count": 30,
   "id": "017dee30-1952-4689-a72e-6b78b34d41db",
   "metadata": {},
   "outputs": [
    {
     "data": {
      "text/plain": [
       "5"
      ]
     },
     "execution_count": 30,
     "metadata": {},
     "output_type": "execute_result"
    }
   ],
   "source": [
    "#example:-\n",
    "#arithmatic operator\n",
    "a=3\n",
    "b=2\n",
    "a+b\n",
    "\n"
   ]
  },
  {
   "cell_type": "code",
   "execution_count": 34,
   "id": "36443e29-23c4-45e4-9e3f-3a6680faa60e",
   "metadata": {},
   "outputs": [
    {
     "data": {
      "text/plain": [
       "97"
      ]
     },
     "execution_count": 34,
     "metadata": {},
     "output_type": "execute_result"
    }
   ],
   "source": [
    "100-3\n"
   ]
  },
  {
   "cell_type": "code",
   "execution_count": 36,
   "id": "c765c533-fd80-4c60-8e02-e083c54757d4",
   "metadata": {},
   "outputs": [
    {
     "data": {
      "text/plain": [
       "15"
      ]
     },
     "execution_count": 36,
     "metadata": {},
     "output_type": "execute_result"
    }
   ],
   "source": [
    "3*5"
   ]
  },
  {
   "cell_type": "code",
   "execution_count": 38,
   "id": "959a0207-31e0-4590-a3b1-14e7be31a412",
   "metadata": {},
   "outputs": [
    {
     "data": {
      "text/plain": [
       "5.25"
      ]
     },
     "execution_count": 38,
     "metadata": {},
     "output_type": "execute_result"
    }
   ],
   "source": [
    "21/4"
   ]
  },
  {
   "cell_type": "code",
   "execution_count": 40,
   "id": "4d51e4da-d192-4fcc-8fa0-2a1e9aad0496",
   "metadata": {},
   "outputs": [
    {
     "data": {
      "text/plain": [
       "1"
      ]
     },
     "execution_count": 40,
     "metadata": {},
     "output_type": "execute_result"
    }
   ],
   "source": [
    "21%4"
   ]
  },
  {
   "cell_type": "markdown",
   "id": "672eed1e-ace6-4a40-8ce4-c657129cc33c",
   "metadata": {},
   "source": [
    "Comparison Operators \r\n",
    "In Python, the comparison operators have lower precedence than the arithmetic operators. All the operators within comparison operators have the same precedence order."
   ]
  },
  {
   "cell_type": "code",
   "execution_count": 42,
   "id": "e5b8171e-4947-4608-9552-c19a860e5427",
   "metadata": {},
   "outputs": [
    {
     "name": "stdout",
     "output_type": "stream",
     "text": [
      "False\n",
      "True\n",
      "False\n",
      "True\n",
      "False\n",
      "True\n"
     ]
    }
   ],
   "source": [
    "#example\n",
    "a = 13\n",
    "b = 33\n",
    "\n",
    "print(a > b)\n",
    "print(a < b)\n",
    "print(a == b)\n",
    "print(a != b)\n",
    "print(a >= b)\n",
    "print(a <= b)"
   ]
  },
  {
   "cell_type": "markdown",
   "id": "e8e7f6ee-3613-4c29-819b-42a51df18a2a",
   "metadata": {},
   "source": [
    "Logical Operators \r\n",
    "The following code shows how to implement Logical Operators in Python:"
   ]
  },
  {
   "cell_type": "code",
   "execution_count": 44,
   "id": "e0162609-3589-4b43-aa48-2268b71461fb",
   "metadata": {},
   "outputs": [
    {
     "name": "stdout",
     "output_type": "stream",
     "text": [
      "False\n",
      "True\n",
      "False\n"
     ]
    }
   ],
   "source": [
    "#example\n",
    "a = True\n",
    "b = False\n",
    "print(a and b)\n",
    "print(a or b)\n",
    "print(not a)"
   ]
  },
  {
   "cell_type": "markdown",
   "id": "3cb6d07d-5c63-4253-bf8f-d22a7a79b445",
   "metadata": {},
   "source": [
    "Bitwise Operators \r\n",
    "The precedence of Bitwise Operatorss:\r\n",
    "\r\n",
    "Bitwise NOT\r\n",
    "Bitwise Shift\r\n",
    "Bitwise AND\r\n",
    "Bitwise XOR\r\n",
    "Bitwise OR"
   ]
  },
  {
   "cell_type": "code",
   "execution_count": 46,
   "id": "9be27fa5-76af-49e9-9a2c-771a21f5480a",
   "metadata": {},
   "outputs": [
    {
     "name": "stdout",
     "output_type": "stream",
     "text": [
      "0\n",
      "14\n",
      "-11\n",
      "14\n",
      "2\n",
      "40\n"
     ]
    }
   ],
   "source": [
    "#example\n",
    "a = 10\n",
    "b = 4\n",
    "print(a & b)\n",
    "print(a | b)\n",
    "print(~a)\n",
    "print(a ^ b)\n",
    "print(a >> 2)\n",
    "print(a << 2)\n",
    "\n"
   ]
  },
  {
   "cell_type": "markdown",
   "id": "4f87ed88-a750-43ef-9e92-e385f453aa36",
   "metadata": {},
   "source": [
    " 5)explain the concept of type casting in Python with examples"
   ]
  },
  {
   "cell_type": "markdown",
   "id": "2f5022dc-dae6-4f80-876f-3a7dfc0ad829",
   "metadata": {},
   "source": [
    "Answer:-There can be two types of Type Casting :\r\n",
    "i)\r\n",
    "Python Implicit Type Conversioii)n\r\n",
    "Python Explicit Type Convers\n",
    "ion\r\n",
    "Implicit Type Conversion in Python\r\n",
    "In this, method, Python converts the datatype into another datatype automatically. Users don’t have to involve in this process. "
   ]
  },
  {
   "cell_type": "code",
   "execution_count": 48,
   "id": "b66009ab-5f82-4de8-97d5-cf58e97fbb65",
   "metadata": {},
   "outputs": [
    {
     "name": "stdout",
     "output_type": "stream",
     "text": [
      "<class 'int'>\n",
      "<class 'float'>\n",
      "10.0\n",
      "<class 'float'>\n",
      "21.0\n",
      "<class 'float'>\n"
     ]
    }
   ],
   "source": [
    "# Python program to demonstrate \n",
    "# implicit type Casting \n",
    "\n",
    "# Python automatically converts \n",
    "# a to int \n",
    "a = 7\n",
    "print(type(a)) \n",
    "\n",
    "# Python automatically converts \n",
    "# b to float \n",
    "b = 3.0\n",
    "print(type(b)) \n",
    "\n",
    "# Python automatically converts \n",
    "# c to float as it is a float addition \n",
    "c = a + b \n",
    "print(c) \n",
    "print(type(c))\n",
    "\n",
    "# Python automatically converts \n",
    "# d to float as it is a float multiplication\n",
    "d = a * b\n",
    "print(d)\n",
    "print(type(d))\n"
   ]
  },
  {
   "cell_type": "markdown",
   "id": "919b94d6-d6c6-4e79-9263-2b6db197e8ef",
   "metadata": {},
   "source": [
    "Explicit Type Conversion \r\n",
    "In this method, Python needs user involvement to convert the variable data type into the required data type. "
   ]
  },
  {
   "cell_type": "code",
   "execution_count": 50,
   "id": "7df2029a-918e-4b7e-9003-c0616926ed87",
   "metadata": {},
   "outputs": [
    {
     "name": "stdout",
     "output_type": "stream",
     "text": [
      "5.0\n",
      "<class 'float'>\n"
     ]
    }
   ],
   "source": [
    "# Python program to demonstrate \n",
    "# type Casting \n",
    "\n",
    "# int variable\n",
    "a = 5\n",
    "\n",
    "# typecast to float\n",
    "n = float(a)\n",
    "\n",
    "print(n)\n",
    "print(type(n))\n"
   ]
  },
  {
   "cell_type": "markdown",
   "id": "37278b16-f3dd-4f61-8019-01dd325c2a42",
   "metadata": {},
   "source": [
    "6) How do conditional statements work in Python? Illustrate with examples"
   ]
  },
  {
   "cell_type": "raw",
   "id": "a18f944e-d3d7-42a5-bf01-fac5928502e9",
   "metadata": {},
   "source": [
    "Answer:-Conditional Statements in that \n",
    "provide a choice for the control flow based on a condition.\n",
    "It means that the control flow of the Python program will be \n",
    "decided based on the outcome of the condition. Now let us see how Conditional Statements are implemented in Python.\n",
    "\n",
    "Types of Conditional Statements in Python\n",
    "1. If Conditional Statement in Python\n",
    "2. If else Conditional Statements in Python\n",
    "3. Nested if..else Conditional Statements in Python\n",
    "4. If-elif-else Conditional Statements in Python\n",
    "5. Ternary Expression Conditional Statements in Python"
   ]
  },
  {
   "cell_type": "code",
   "execution_count": 54,
   "id": "49035d57-89a7-4fa4-9b13-dcd86bd06205",
   "metadata": {},
   "outputs": [
    {
     "name": "stdout",
     "output_type": "stream",
     "text": [
      "10 greater than 5\n",
      "Program start\n"
     ]
    }
   ],
   "source": [
    "#example \n",
    "# if statement example\n",
    "if 10 > 5:\n",
    "    print(\"10 greater than 5\")\n",
    "\n",
    "print(\"Program start\")"
   ]
  },
  {
   "cell_type": "raw",
   "id": "24155d14-cb3b-449e-a5ca-2c4a1e3385ee",
   "metadata": {},
   "source": [
    "2. If else Conditional Statements \n",
    "In a conditional if Statement the additional block of code is merged as an else statement which is performed when if condition is false. \n"
   ]
  },
  {
   "cell_type": "code",
   "execution_count": 56,
   "id": "c0fd2006-e591-4853-b909-0f8a6843544c",
   "metadata": {},
   "outputs": [
    {
     "name": "stdout",
     "output_type": "stream",
     "text": [
      "No\n"
     ]
    }
   ],
   "source": [
    "# if..else statement example\n",
    "x = 3\n",
    "if x == 4:\n",
    "    print(\"Yes\")\n",
    "else:\n",
    "    print(\"No\")\n"
   ]
  },
  {
   "cell_type": "raw",
   "id": "10184719-1751-4805-bb0a-34f42a0c302c",
   "metadata": {},
   "source": [
    "3. Nested if..else Conditional Statements \n",
    "Nested if..else means an if-else statement inside another if statement. Or in simple words first, there is an outer if statement, and inside it another if – else statement is present and such type of statement is known as nested if statement. We can use one if or else if statement inside another if or else if statements."
   ]
  },
  {
   "cell_type": "code",
   "execution_count": 58,
   "id": "661f8ef4-7773-4f98-be24-3d02c1af8e54",
   "metadata": {},
   "outputs": [
    {
     "name": "stdout",
     "output_type": "stream",
     "text": [
      "letter is A\n"
     ]
    }
   ],
   "source": [
    "# if..else chain statement\n",
    "letter = \"A\"\n",
    "\n",
    "if letter == \"B\":\n",
    "    print(\"letter is B\")\n",
    "\n",
    "else:\n",
    "\n",
    "    if letter == \"C\":\n",
    "        print(\"letter is C\")\n",
    "\n",
    "    else:\n",
    "\n",
    "        if letter == \"A\":\n",
    "            print(\"letter is A\")\n",
    "\n",
    "        else:\n",
    "            print(\"letter isn't A, B and C\")\n"
   ]
  },
  {
   "cell_type": "raw",
   "id": "a39188bf-2f59-45df-acd3-639fa54abff1",
   "metadata": {},
   "source": [
    "4. If-elif-else Conditional Statements \n",
    "The if statements are executed from the top down. As soon as one of the conditions controlling the if is true, the statement associated with that if is executed, and the rest of the ladder is bypassed. If none of the conditions is true, then the final “else” statement will be executed."
   ]
  },
  {
   "cell_type": "code",
   "execution_count": 60,
   "id": "dd54c777-ed25-4355-93b9-eb0aad081a1b",
   "metadata": {},
   "outputs": [
    {
     "name": "stdout",
     "output_type": "stream",
     "text": [
      "letter is A\n"
     ]
    }
   ],
   "source": [
    "# if-elif statement example\n",
    "letter = \"A\"\n",
    "\n",
    "if letter == \"B\":\n",
    "    print(\"letter is B\")\n",
    "\n",
    "elif letter == \"C\":\n",
    "    print(\"letter is C\")\n",
    "\n",
    "elif letter == \"A\":\n",
    "    print(\"letter is A\")\n",
    "\n",
    "else:\n",
    "    print(\"letter isn't A, B or C\")\n"
   ]
  },
  {
   "cell_type": "raw",
   "id": "aeca3e86-3fca-4144-b23a-abad168d722f",
   "metadata": {},
   "source": [
    "7) Describe the different types of loops in Python and their use cases with examples."
   ]
  },
  {
   "cell_type": "raw",
   "id": "2fe713d4-7f6c-4434-9914-827778d3cf6c",
   "metadata": {},
   "source": [
    "Answer:- i) While Loop \n",
    "In Python, a while loop is used to execute a block of statements repeatedly until a given condition is satisfied. When the condition becomes false, the line immediately after the loop in the program is executed."
   ]
  },
  {
   "cell_type": "code",
   "execution_count": 62,
   "id": "05ce7438-4154-4cd8-bc58-5307b85fa521",
   "metadata": {},
   "outputs": [
    {
     "name": "stdout",
     "output_type": "stream",
     "text": [
      "Hello Pwskills\n",
      "Hello Pwskills\n",
      "Hello Pwskills\n"
     ]
    }
   ],
   "source": [
    "count = 0\n",
    "while (count < 3):\n",
    "    count = count + 1\n",
    "    print(\"Hello Pwskills\")"
   ]
  },
  {
   "cell_type": "raw",
   "id": "42f7aa2a-6a63-4328-be57-6d338bcf5d38",
   "metadata": {},
   "source": [
    "ii)For Loop \n",
    "For loops are used for sequential traversal. For example: traversing a list or string or array etc. In Python, there is “for in” loop which is similar to foreach loop in other languages. Let us learn how to use for loops in Python for sequential traversals with examples."
   ]
  },
  {
   "cell_type": "code",
   "execution_count": 64,
   "id": "7c45af76-314d-4385-84d7-4aca6ee0cb44",
   "metadata": {},
   "outputs": [
    {
     "name": "stdout",
     "output_type": "stream",
     "text": [
      "0\n",
      "1\n",
      "2\n",
      "3\n"
     ]
    }
   ],
   "source": [
    "n = 4\n",
    "for i in range(0, n):\n",
    "    print(i)"
   ]
  },
  {
   "cell_type": "raw",
   "id": "6c3b1072-cd56-47d4-81b6-bc04a4b42542",
   "metadata": {},
   "source": [
    "iii)Nested Loops \n",
    "Python programming language allows to use one loop inside another loop which is called nested loop. Following section shows few examples to illustrate the concept. "
   ]
  },
  {
   "cell_type": "code",
   "execution_count": 68,
   "id": "57aed372-5939-45c9-8598-7c493c143bb3",
   "metadata": {},
   "outputs": [
    {
     "name": "stdout",
     "output_type": "stream",
     "text": [
      "1 \n",
      "2 2 \n",
      "3 3 3 \n",
      "4 4 4 4 \n"
     ]
    }
   ],
   "source": [
    "from __future__ import print_function\n",
    "for i in range(1, 5):\n",
    "    for j in range(i):\n",
    "        print(i, end=' ')\n",
    "    print()"
   ]
  },
  {
   "cell_type": "code",
   "execution_count": null,
   "id": "166c14a9-8823-4e50-bb74-e0a20714576b",
   "metadata": {},
   "outputs": [],
   "source": []
  }
 ],
 "metadata": {
  "kernelspec": {
   "display_name": "Python 3 (ipykernel)",
   "language": "python",
   "name": "python3"
  },
  "language_info": {
   "codemirror_mode": {
    "name": "ipython",
    "version": 3
   },
   "file_extension": ".py",
   "mimetype": "text/x-python",
   "name": "python",
   "nbconvert_exporter": "python",
   "pygments_lexer": "ipython3",
   "version": "3.12.4"
  }
 },
 "nbformat": 4,
 "nbformat_minor": 5
}
